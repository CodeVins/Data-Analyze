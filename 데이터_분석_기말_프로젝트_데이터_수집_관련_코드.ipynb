{
  "nbformat": 4,
  "nbformat_minor": 0,
  "metadata": {
    "colab": {
      "provenance": [],
      "authorship_tag": "ABX9TyMIsOXUt/BrZu/xxLQtj/qy",
      "include_colab_link": true
    },
    "kernelspec": {
      "name": "python3",
      "display_name": "Python 3"
    },
    "language_info": {
      "name": "python"
    }
  },
  "cells": [
    {
      "cell_type": "markdown",
      "metadata": {
        "id": "view-in-github",
        "colab_type": "text"
      },
      "source": [
        "<a href=\"https://colab.research.google.com/github/CodeVins/Data-Analyze/blob/main/%EB%8D%B0%EC%9D%B4%ED%84%B0_%EB%B6%84%EC%84%9D_%EA%B8%B0%EB%A7%90_%ED%94%84%EB%A1%9C%EC%A0%9D%ED%8A%B8_%EB%8D%B0%EC%9D%B4%ED%84%B0_%EC%88%98%EC%A7%91_%EA%B4%80%EB%A0%A8_%EC%BD%94%EB%93%9C.ipynb\" target=\"_parent\"><img src=\"https://colab.research.google.com/assets/colab-badge.svg\" alt=\"Open In Colab\"/></a>"
      ]
    },
    {
      "cell_type": "code",
      "execution_count": null,
      "metadata": {
        "id": "qcI-eVg-6Ku4"
      },
      "outputs": [],
      "source": [
        "import requests\n",
        "import pandas as pd\n",
        "\n",
        "serviceKey = 'uun2aJj2%2Betud4g42QxMyfPiNHjo6GgWZ%2BTbaBmuCcIU4L3FE%2BKAFN%2Ff6POBGp4LPtScZQkt%2BZ6UuFefhcf5aA%3D%3D'\n",
        "numOfRows = 400\n",
        "startDt = 20130101\n",
        "endDt = 20131231\n",
        "stnId = 108  # 서울\n",
        "\n",
        "def set_url(key, numOfRows, startDt, endDt, stnId, ctype):\n",
        "    base = \"http://apis.data.go.kr/1360000/AsosDalyInfoService/getWthrDataList\"\n",
        "    url = (f\"{base}?serviceKey={key}&pageNo=1&numOfRows={numOfRows}\"\n",
        "           f\"&dataType={ctype}&dataCd=ASOS&dateCd=DAY\"\n",
        "           f\"&startDt={startDt}&endDt={endDt}&stnIds={stnId}\")\n",
        "    return url"
      ]
    },
    {
      "cell_type": "code",
      "source": [
        "url = set_url(serviceKey, numOfRows, startDt, endDt, stnId, \"JSON\")\n",
        "\n",
        "\n",
        "response = requests.get(url)\n",
        "\n",
        "\n",
        "if response.status_code == 200:\n",
        "    data = response.json()\n",
        "    items = data['response']['body']['items']['item']\n",
        "    df = pd.DataFrame(items)\n",
        "    print(\" 데이터프레임 생성 완료\")\n",
        "else:\n",
        "    print( response.status_code)\n",
        "    print(response.text[:300])\n"
      ],
      "metadata": {
        "colab": {
          "base_uri": "https://localhost:8080/"
        },
        "id": "1GxJxoXT8wam",
        "outputId": "3d666e71-80d6-47b1-b538-2530a78fcc3d"
      },
      "execution_count": null,
      "outputs": [
        {
          "output_type": "stream",
          "name": "stdout",
          "text": [
            " 데이터프레임 생성 완료\n"
          ]
        }
      ]
    },
    {
      "cell_type": "code",
      "source": [
        "df['tm'] = pd.to_datetime(df['tm'])\n",
        "\n",
        "\n",
        "df['month'] = df['tm'].dt.to_period('M')\n",
        "\n",
        "\n",
        "df['sumRn'] = pd.to_numeric(df['sumRn'], errors='coerce').fillna(0)\n",
        "\n",
        "\n",
        "monthly_summary = df.groupby('month').agg(\n",
        "    월강수합계=('sumRn', 'sum'),\n",
        "    월평균강수=('sumRn', 'mean'),\n",
        "    비온날수=('sumRn', lambda x: (x > 0).sum()),\n",
        "    전체일수=('sumRn', 'count')\n",
        ").reset_index()\n",
        "\n",
        "\n",
        "monthly_summary['비온날비율(%)'] = (monthly_summary['비온날수'] / monthly_summary['전체일수']) * 100\n",
        "\n",
        "\n",
        "monthly_summary\n",
        "\n",
        "monthly_summary.to_csv(\"seoul_2013_monthly_rainfall.csv\", index=False, encoding='utf-8-sig')\n",
        "print(\"'seoul_2013_monthly_rainfall.csv' 저장 완료!\")\n"
      ],
      "metadata": {
        "colab": {
          "base_uri": "https://localhost:8080/"
        },
        "id": "MYO3Rl2k9BhM",
        "outputId": "83943899-5f3c-4ded-94e7-d76e6415b153"
      },
      "execution_count": null,
      "outputs": [
        {
          "output_type": "stream",
          "name": "stdout",
          "text": [
            "'seoul_2013_monthly_rainfall.csv' 저장 완료!\n"
          ]
        }
      ]
    },
    {
      "cell_type": "code",
      "source": [
        "url = 'https://raw.githubusercontent.com/CodeVins/seoul2013_violent_crime/main/seoul_2013_violent_crime.csv'\n",
        "df = pd.read_csv(url, encoding='cp949')\n",
        "\n",
        "df.head()"
      ],
      "metadata": {
        "colab": {
          "base_uri": "https://localhost:8080/",
          "height": 206
        },
        "collapsed": true,
        "id": "tea7kVIbcH39",
        "outputId": "f70d9c92-ff3f-4fec-a58d-c4a7e1bc47aa"
      },
      "execution_count": null,
      "outputs": [
        {
          "output_type": "execute_result",
          "data": {
            "text/plain": [
              "          월  서울 강력범죄 발생수\n",
              "0  2013. 12          472\n",
              "1  2013. 11          415\n",
              "2  2013. 10          669\n",
              "3  2013. 09          547\n",
              "4  2013. 08          615"
            ],
            "text/html": [
              "\n",
              "  <div id=\"df-7daba9d8-6a11-4c1e-be8f-e77fa81dcb08\" class=\"colab-df-container\">\n",
              "    <div>\n",
              "<style scoped>\n",
              "    .dataframe tbody tr th:only-of-type {\n",
              "        vertical-align: middle;\n",
              "    }\n",
              "\n",
              "    .dataframe tbody tr th {\n",
              "        vertical-align: top;\n",
              "    }\n",
              "\n",
              "    .dataframe thead th {\n",
              "        text-align: right;\n",
              "    }\n",
              "</style>\n",
              "<table border=\"1\" class=\"dataframe\">\n",
              "  <thead>\n",
              "    <tr style=\"text-align: right;\">\n",
              "      <th></th>\n",
              "      <th>월</th>\n",
              "      <th>서울 강력범죄 발생수</th>\n",
              "    </tr>\n",
              "  </thead>\n",
              "  <tbody>\n",
              "    <tr>\n",
              "      <th>0</th>\n",
              "      <td>2013. 12</td>\n",
              "      <td>472</td>\n",
              "    </tr>\n",
              "    <tr>\n",
              "      <th>1</th>\n",
              "      <td>2013. 11</td>\n",
              "      <td>415</td>\n",
              "    </tr>\n",
              "    <tr>\n",
              "      <th>2</th>\n",
              "      <td>2013. 10</td>\n",
              "      <td>669</td>\n",
              "    </tr>\n",
              "    <tr>\n",
              "      <th>3</th>\n",
              "      <td>2013. 09</td>\n",
              "      <td>547</td>\n",
              "    </tr>\n",
              "    <tr>\n",
              "      <th>4</th>\n",
              "      <td>2013. 08</td>\n",
              "      <td>615</td>\n",
              "    </tr>\n",
              "  </tbody>\n",
              "</table>\n",
              "</div>\n",
              "    <div class=\"colab-df-buttons\">\n",
              "\n",
              "  <div class=\"colab-df-container\">\n",
              "    <button class=\"colab-df-convert\" onclick=\"convertToInteractive('df-7daba9d8-6a11-4c1e-be8f-e77fa81dcb08')\"\n",
              "            title=\"Convert this dataframe to an interactive table.\"\n",
              "            style=\"display:none;\">\n",
              "\n",
              "  <svg xmlns=\"http://www.w3.org/2000/svg\" height=\"24px\" viewBox=\"0 -960 960 960\">\n",
              "    <path d=\"M120-120v-720h720v720H120Zm60-500h600v-160H180v160Zm220 220h160v-160H400v160Zm0 220h160v-160H400v160ZM180-400h160v-160H180v160Zm440 0h160v-160H620v160ZM180-180h160v-160H180v160Zm440 0h160v-160H620v160Z\"/>\n",
              "  </svg>\n",
              "    </button>\n",
              "\n",
              "  <style>\n",
              "    .colab-df-container {\n",
              "      display:flex;\n",
              "      gap: 12px;\n",
              "    }\n",
              "\n",
              "    .colab-df-convert {\n",
              "      background-color: #E8F0FE;\n",
              "      border: none;\n",
              "      border-radius: 50%;\n",
              "      cursor: pointer;\n",
              "      display: none;\n",
              "      fill: #1967D2;\n",
              "      height: 32px;\n",
              "      padding: 0 0 0 0;\n",
              "      width: 32px;\n",
              "    }\n",
              "\n",
              "    .colab-df-convert:hover {\n",
              "      background-color: #E2EBFA;\n",
              "      box-shadow: 0px 1px 2px rgba(60, 64, 67, 0.3), 0px 1px 3px 1px rgba(60, 64, 67, 0.15);\n",
              "      fill: #174EA6;\n",
              "    }\n",
              "\n",
              "    .colab-df-buttons div {\n",
              "      margin-bottom: 4px;\n",
              "    }\n",
              "\n",
              "    [theme=dark] .colab-df-convert {\n",
              "      background-color: #3B4455;\n",
              "      fill: #D2E3FC;\n",
              "    }\n",
              "\n",
              "    [theme=dark] .colab-df-convert:hover {\n",
              "      background-color: #434B5C;\n",
              "      box-shadow: 0px 1px 3px 1px rgba(0, 0, 0, 0.15);\n",
              "      filter: drop-shadow(0px 1px 2px rgba(0, 0, 0, 0.3));\n",
              "      fill: #FFFFFF;\n",
              "    }\n",
              "  </style>\n",
              "\n",
              "    <script>\n",
              "      const buttonEl =\n",
              "        document.querySelector('#df-7daba9d8-6a11-4c1e-be8f-e77fa81dcb08 button.colab-df-convert');\n",
              "      buttonEl.style.display =\n",
              "        google.colab.kernel.accessAllowed ? 'block' : 'none';\n",
              "\n",
              "      async function convertToInteractive(key) {\n",
              "        const element = document.querySelector('#df-7daba9d8-6a11-4c1e-be8f-e77fa81dcb08');\n",
              "        const dataTable =\n",
              "          await google.colab.kernel.invokeFunction('convertToInteractive',\n",
              "                                                    [key], {});\n",
              "        if (!dataTable) return;\n",
              "\n",
              "        const docLinkHtml = 'Like what you see? Visit the ' +\n",
              "          '<a target=\"_blank\" href=https://colab.research.google.com/notebooks/data_table.ipynb>data table notebook</a>'\n",
              "          + ' to learn more about interactive tables.';\n",
              "        element.innerHTML = '';\n",
              "        dataTable['output_type'] = 'display_data';\n",
              "        await google.colab.output.renderOutput(dataTable, element);\n",
              "        const docLink = document.createElement('div');\n",
              "        docLink.innerHTML = docLinkHtml;\n",
              "        element.appendChild(docLink);\n",
              "      }\n",
              "    </script>\n",
              "  </div>\n",
              "\n",
              "\n",
              "    <div id=\"df-e0fc53ad-ce8c-4303-98df-6beccefc510c\">\n",
              "      <button class=\"colab-df-quickchart\" onclick=\"quickchart('df-e0fc53ad-ce8c-4303-98df-6beccefc510c')\"\n",
              "                title=\"Suggest charts\"\n",
              "                style=\"display:none;\">\n",
              "\n",
              "<svg xmlns=\"http://www.w3.org/2000/svg\" height=\"24px\"viewBox=\"0 0 24 24\"\n",
              "     width=\"24px\">\n",
              "    <g>\n",
              "        <path d=\"M19 3H5c-1.1 0-2 .9-2 2v14c0 1.1.9 2 2 2h14c1.1 0 2-.9 2-2V5c0-1.1-.9-2-2-2zM9 17H7v-7h2v7zm4 0h-2V7h2v10zm4 0h-2v-4h2v4z\"/>\n",
              "    </g>\n",
              "</svg>\n",
              "      </button>\n",
              "\n",
              "<style>\n",
              "  .colab-df-quickchart {\n",
              "      --bg-color: #E8F0FE;\n",
              "      --fill-color: #1967D2;\n",
              "      --hover-bg-color: #E2EBFA;\n",
              "      --hover-fill-color: #174EA6;\n",
              "      --disabled-fill-color: #AAA;\n",
              "      --disabled-bg-color: #DDD;\n",
              "  }\n",
              "\n",
              "  [theme=dark] .colab-df-quickchart {\n",
              "      --bg-color: #3B4455;\n",
              "      --fill-color: #D2E3FC;\n",
              "      --hover-bg-color: #434B5C;\n",
              "      --hover-fill-color: #FFFFFF;\n",
              "      --disabled-bg-color: #3B4455;\n",
              "      --disabled-fill-color: #666;\n",
              "  }\n",
              "\n",
              "  .colab-df-quickchart {\n",
              "    background-color: var(--bg-color);\n",
              "    border: none;\n",
              "    border-radius: 50%;\n",
              "    cursor: pointer;\n",
              "    display: none;\n",
              "    fill: var(--fill-color);\n",
              "    height: 32px;\n",
              "    padding: 0;\n",
              "    width: 32px;\n",
              "  }\n",
              "\n",
              "  .colab-df-quickchart:hover {\n",
              "    background-color: var(--hover-bg-color);\n",
              "    box-shadow: 0 1px 2px rgba(60, 64, 67, 0.3), 0 1px 3px 1px rgba(60, 64, 67, 0.15);\n",
              "    fill: var(--button-hover-fill-color);\n",
              "  }\n",
              "\n",
              "  .colab-df-quickchart-complete:disabled,\n",
              "  .colab-df-quickchart-complete:disabled:hover {\n",
              "    background-color: var(--disabled-bg-color);\n",
              "    fill: var(--disabled-fill-color);\n",
              "    box-shadow: none;\n",
              "  }\n",
              "\n",
              "  .colab-df-spinner {\n",
              "    border: 2px solid var(--fill-color);\n",
              "    border-color: transparent;\n",
              "    border-bottom-color: var(--fill-color);\n",
              "    animation:\n",
              "      spin 1s steps(1) infinite;\n",
              "  }\n",
              "\n",
              "  @keyframes spin {\n",
              "    0% {\n",
              "      border-color: transparent;\n",
              "      border-bottom-color: var(--fill-color);\n",
              "      border-left-color: var(--fill-color);\n",
              "    }\n",
              "    20% {\n",
              "      border-color: transparent;\n",
              "      border-left-color: var(--fill-color);\n",
              "      border-top-color: var(--fill-color);\n",
              "    }\n",
              "    30% {\n",
              "      border-color: transparent;\n",
              "      border-left-color: var(--fill-color);\n",
              "      border-top-color: var(--fill-color);\n",
              "      border-right-color: var(--fill-color);\n",
              "    }\n",
              "    40% {\n",
              "      border-color: transparent;\n",
              "      border-right-color: var(--fill-color);\n",
              "      border-top-color: var(--fill-color);\n",
              "    }\n",
              "    60% {\n",
              "      border-color: transparent;\n",
              "      border-right-color: var(--fill-color);\n",
              "    }\n",
              "    80% {\n",
              "      border-color: transparent;\n",
              "      border-right-color: var(--fill-color);\n",
              "      border-bottom-color: var(--fill-color);\n",
              "    }\n",
              "    90% {\n",
              "      border-color: transparent;\n",
              "      border-bottom-color: var(--fill-color);\n",
              "    }\n",
              "  }\n",
              "</style>\n",
              "\n",
              "      <script>\n",
              "        async function quickchart(key) {\n",
              "          const quickchartButtonEl =\n",
              "            document.querySelector('#' + key + ' button');\n",
              "          quickchartButtonEl.disabled = true;  // To prevent multiple clicks.\n",
              "          quickchartButtonEl.classList.add('colab-df-spinner');\n",
              "          try {\n",
              "            const charts = await google.colab.kernel.invokeFunction(\n",
              "                'suggestCharts', [key], {});\n",
              "          } catch (error) {\n",
              "            console.error('Error during call to suggestCharts:', error);\n",
              "          }\n",
              "          quickchartButtonEl.classList.remove('colab-df-spinner');\n",
              "          quickchartButtonEl.classList.add('colab-df-quickchart-complete');\n",
              "        }\n",
              "        (() => {\n",
              "          let quickchartButtonEl =\n",
              "            document.querySelector('#df-e0fc53ad-ce8c-4303-98df-6beccefc510c button');\n",
              "          quickchartButtonEl.style.display =\n",
              "            google.colab.kernel.accessAllowed ? 'block' : 'none';\n",
              "        })();\n",
              "      </script>\n",
              "    </div>\n",
              "\n",
              "    </div>\n",
              "  </div>\n"
            ],
            "application/vnd.google.colaboratory.intrinsic+json": {
              "type": "dataframe",
              "variable_name": "df",
              "summary": "{\n  \"name\": \"df\",\n  \"rows\": 12,\n  \"fields\": [\n    {\n      \"column\": \"\\uc6d4\",\n      \"properties\": {\n        \"dtype\": \"object\",\n        \"num_unique_values\": 12,\n        \"samples\": [\n          \"2013. 02\",\n          \"2013. 03\",\n          \"2013. 12\"\n        ],\n        \"semantic_type\": \"\",\n        \"description\": \"\"\n      }\n    },\n    {\n      \"column\": \"\\uc11c\\uc6b8 \\uac15\\ub825\\ubc94\\uc8c4 \\ubc1c\\uc0dd\\uc218\",\n      \"properties\": {\n        \"dtype\": \"number\",\n        \"std\": 106,\n        \"min\": 346,\n        \"max\": 669,\n        \"num_unique_values\": 12,\n        \"samples\": [\n          346,\n          444,\n          472\n        ],\n        \"semantic_type\": \"\",\n        \"description\": \"\"\n      }\n    }\n  ]\n}"
            }
          },
          "metadata": {},
          "execution_count": 5
        }
      ]
    },
    {
      "cell_type": "code",
      "source": [
        "file_path = '/content/seoul_2013_violent_crime.csv'\n",
        "\n",
        "df.to_csv(file_path, index=False, encoding='utf-8-sig')\n",
        "\n",
        "print(f\"파일이 저장되었습니다: {file_path}\")"
      ],
      "metadata": {
        "colab": {
          "base_uri": "https://localhost:8080/"
        },
        "id": "d40VppnNe0o_",
        "outputId": "5119ab35-6aad-42e6-ff54-fbd1ebbdddd3"
      },
      "execution_count": null,
      "outputs": [
        {
          "output_type": "stream",
          "name": "stdout",
          "text": [
            "파일이 저장되었습니다: /content/seoul_2013_violent_crime.csv\n"
          ]
        }
      ]
    },
    {
      "cell_type": "code",
      "source": [
        "rain_df = pd.read_csv('/content/seoul_2013_monthly_rainfall.csv', encoding='utf-8-sig')\n",
        "crime_df = pd.read_csv('/content/seoul_2013_violent_crime.csv', encoding='utf-8-sig')\n",
        "\n",
        "print(\"강수량 데이터 컬럼:\", rain_df.columns.tolist())\n",
        "print(\"범죄 데이터 컬럼:\", crime_df.columns.tolist())"
      ],
      "metadata": {
        "colab": {
          "base_uri": "https://localhost:8080/"
        },
        "id": "oE8__P8Yhdm5",
        "outputId": "b1f2438e-7210-4e96-e5fb-e013490e24e0"
      },
      "execution_count": null,
      "outputs": [
        {
          "output_type": "stream",
          "name": "stdout",
          "text": [
            "강수량 데이터 컬럼: ['month', '월강수합계', '월평균강수', '비온날수', '전체일수', '비온날비율(%)']\n",
            "범죄 데이터 컬럼: ['월', '서울 강력범죄 발생수']\n"
          ]
        }
      ]
    },
    {
      "cell_type": "code",
      "source": [
        "crime_df = pd.read_csv('/content/seoul_2013_violent_crime.csv', encoding='utf-8-sig')\n",
        "\n",
        "\n",
        "crime_df['month'] = pd.to_datetime(crime_df['월'], format='%Y. %m').dt.to_period('M')\n",
        "\n",
        "\n",
        "crime_df = crime_df.drop(columns=['월'])\n",
        "\n",
        "\n",
        "crime_df.to_csv('seoul_2013_monthly_violent_crime_preprocessed.csv', index=False, encoding='utf-8-sig')\n",
        "print(\" 저장 완료.\")\n"
      ],
      "metadata": {
        "colab": {
          "base_uri": "https://localhost:8080/"
        },
        "id": "HW6RrYHHfegr",
        "outputId": "461874db-f3ec-49d0-83ae-4958dcee91b8"
      },
      "execution_count": null,
      "outputs": [
        {
          "output_type": "stream",
          "name": "stdout",
          "text": [
            " 저장 완료.\n"
          ]
        }
      ]
    },
    {
      "cell_type": "code",
      "source": [
        "rain_df = pd.read_csv('/content/seoul_2013_monthly_rainfall.csv', encoding='utf-8-sig')\n",
        "crime_df = pd.read_csv('/content/seoul_2013_monthly_violent_crime_preprocessed.csv', encoding='utf-8-sig')\n",
        "\n",
        "rain_df['month'] = pd.to_datetime(rain_df['month']).dt.to_period('M')\n",
        "crime_df['month'] = pd.to_datetime(crime_df['month']).dt.to_period('M')\n",
        "\n",
        "merged_df = pd.merge(rain_df, crime_df, on='month', how='inner')\n",
        "\n",
        "print(merged_df)\n",
        "\n",
        "merged_df.to_csv('seoul_2013_rainfall_violent_crime_merged.csv', index=False, encoding='utf-8-sig')\n"
      ],
      "metadata": {
        "colab": {
          "base_uri": "https://localhost:8080/"
        },
        "id": "0t_lRoyIQK0R",
        "outputId": "f1117ef3-01aa-4c00-a131-07b487a2bc12"
      },
      "execution_count": null,
      "outputs": [
        {
          "output_type": "stream",
          "name": "stdout",
          "text": [
            "      month  월강수합계      월평균강수  비온날수  전체일수   비온날비율(%)  서울 강력범죄 발생수\n",
            "0   2013-01   22.1   0.712903     7    31  22.580645          396\n",
            "1   2013-02   74.1   2.646429     8    28  28.571429          346\n",
            "2   2013-03   27.3   0.880645     8    31  25.806452          444\n",
            "3   2013-04   71.7   2.390000    15    30  50.000000          546\n",
            "4   2013-05  132.0   4.258065    10    31  32.258065          558\n",
            "5   2013-06   28.3   0.943333     9    30  30.000000          619\n",
            "6   2013-07  676.2  21.812903    25    31  80.645161          649\n",
            "7   2013-08  148.6   4.793548    12    31  38.709677          615\n",
            "8   2013-09  138.5   4.616667     9    30  30.000000          547\n",
            "9   2013-10   13.5   0.435484     4    31  12.903226          669\n",
            "10  2013-11   46.8   1.560000    12    30  40.000000          415\n",
            "11  2013-12   24.7   0.796774     9    31  29.032258          472\n"
          ]
        }
      ]
    }
  ]
}